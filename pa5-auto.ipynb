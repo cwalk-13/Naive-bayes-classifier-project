{
 "cells": [
  {
   "cell_type": "code",
   "execution_count": 1,
   "metadata": {},
   "outputs": [],
   "source": [
    "# some useful mysklearn package import statements and reloads\n",
    "import importlib\n",
    "\n",
    "import mysklearn.myutils\n",
    "importlib.reload(mysklearn.myutils)\n",
    "import mysklearn.myutils as myutils\n",
    "\n",
    "# uncomment once you paste your mypytable.py into mysklearn package\n",
    "import mysklearn.mypytable\n",
    "importlib.reload(mysklearn.mypytable)\n",
    "from mysklearn.mypytable import MyPyTable \n",
    "\n",
    "import mysklearn.myclassifiers\n",
    "importlib.reload(mysklearn.myclassifiers)\n",
    "from mysklearn.myclassifiers import MyKNeighborsClassifier, MySimpleLinearRegressor, MyNaiveBayesClassifier\n",
    "\n",
    "import mysklearn.myevaluation\n",
    "importlib.reload(mysklearn.myevaluation)\n",
    "import mysklearn.myevaluation as myevaluation"
   ]
  },
  {
   "cell_type": "markdown",
   "metadata": {},
   "source": [
    "# Part 2: Auto Dataset Classification\n",
    "## Step 1: Train/Test sets"
   ]
  },
  {
   "cell_type": "code",
   "execution_count": 2,
   "metadata": {},
   "outputs": [
    {
     "name": "stdout",
     "output_type": "stream",
     "text": [
      "===========================================\n",
      "STEP 1: Linear Regression MPG Classifier\n",
      "===========================================\n",
      "instance: [14.0, 8.0, 302.0, 140.0, 4638.0, 16.0, 74.0, 1.0, 'ford gran torino (sw)', 4017.0]\n",
      "class: 1 actual:  2\n",
      "instance: [31.9, 4.0, 89.0, 71.0, 1925.0, 14.0, 79.0, 2.0, 'vw rabbit custom', 4799.0]\n",
      "class: 7 actual:  8\n",
      "instance: [19.0, 6.0, 250.0, 88.0, 3302.0, 15.5, 71.0, 1.0, 'ford torino 500', 2950.0]\n",
      "class: 4 actual:  4\n",
      "instance: [34.1, 4.0, 86.0, 65.0, 1975.0, 15.2, 79.0, 3.0, 'maxda glc deluxe', 3995.0]\n",
      "class: 7 actual:  8\n",
      "instance: [30.5, 4.0, 97.0, 78.0, 2190.0, 14.1, 77.0, 2.0, 'volkswagen dasher', 5399.0]\n",
      "class: 6 actual:  7\n"
     ]
    }
   ],
   "source": [
    "import importlib\n",
    "# some useful mysklearn package import statements and reloads\n",
    "\n",
    "import mysklearn.myutils\n",
    "importlib.reload(mysklearn.myutils)\n",
    "import mysklearn.myutils as myutils\n",
    "\n",
    "# uncomment once you paste your mypytable.py into mysklearn package\n",
    "import mysklearn.mypytable\n",
    "importlib.reload(mysklearn.mypytable)\n",
    "from mysklearn.mypytable import MyPyTable \n",
    "\n",
    "import mysklearn.myclassifiers\n",
    "importlib.reload(mysklearn.myclassifiers)\n",
    "from mysklearn.myclassifiers import MyKNeighborsClassifier, MySimpleLinearRegressor, MyNaiveBayesClassifier\n",
    "\n",
    "import mysklearn.myevaluation\n",
    "importlib.reload(mysklearn.myevaluation)\n",
    "import mysklearn.myevaluation as myevaluation\n",
    "import os\n",
    "import random\n",
    "\n",
    "auto_file = os.path.join(\"input_data\", \"auto-data-removed-NA.txt\")\n",
    "auto_mypy = myutils.load_data(auto_file)\n",
    "auto.remove_rows_with_missing_values()\n",
    "weight = auto_mypy.get_column('weight')\n",
    "weight = [[val] for val in weight]\n",
    "\n",
    "x_train, x_test, y_train, y_test = myevaluation.train_test_split(weight, auto_mypy.get_column('mpg'), shuffle=True)\n",
    "\n",
    "reg = MySimpleLinearRegressor()\n",
    "reg.fit(x_train,y_train)\n",
    "\n",
    "rand_rows = myutils.get_rand_rows(auto_mypy, 5)\n",
    "print(\"===========================================\")\n",
    "print(\"STEP 1: Linear Regression MPG Classifier\")\n",
    "print(\"===========================================\")\n",
    "for row in rand_rows:\n",
    "    print('instance:', row)\n",
    "    print('class:', myutils.rating(reg.predict([[row[4]]])[0]), 'actual: ',myutils.rating(row[0]))"
   ]
  },
  {
   "cell_type": "markdown",
   "metadata": {},
   "source": [
    "## Step 2 Train/Test Sets: Random Instances and kNN"
   ]
  },
  {
   "cell_type": "code",
   "execution_count": 52,
   "metadata": {},
   "outputs": [
    {
     "name": "stdout",
     "output_type": "stream",
     "text": [
      "===========================================\n",
      "STEP 2: Naive Bayes 5 random predictions\n",
      "===========================================\n",
      "instance: [23.0, 4.0, 120.0, 88.0, 2957.0, 17.0, 75.0, 2.0, 'peugeot 504', 6330.0]\n",
      "class: 5 actual: 5\n",
      "instance: [14.0, 8.0, 302.0, 140.0, 4638.0, 16.0, 74.0, 1.0, 'ford gran torino (sw)', 4017.0]\n",
      "class: 4 actual: 2\n",
      "instance: [25.5, 4.0, 122.0, 96.0, 2300.0, 15.5, 77.0, 1.0, 'plymouth arrow gs', 3654.0]\n",
      "class: 6 actual: 6\n",
      "instance: [14.0, 8.0, 351.0, 148.0, 4657.0, 13.5, 75.0, 1.0, 'ford ltd', 4753.0]\n",
      "class: 4 actual: 2\n",
      "instance: [17.0, 8.0, 302.0, 140.0, 3449.0, 10.5, 70.0, 1.0, 'ford torino', 2778.0]\n",
      "class: 1 actual: 4\n"
     ]
    }
   ],
   "source": [
    "import importlib\n",
    "# some useful mysklearn package import statements and reloads\n",
    "\n",
    "import mysklearn.myutils\n",
    "importlib.reload(mysklearn.myutils)\n",
    "import mysklearn.myutils as myutils\n",
    "\n",
    "# uncomment once you paste your mypytable.py into mysklearn package\n",
    "import mysklearn.mypytable\n",
    "importlib.reload(mysklearn.mypytable)\n",
    "from mysklearn.mypytable import MyPyTable \n",
    "\n",
    "import mysklearn.myclassifiers\n",
    "importlib.reload(mysklearn.myclassifiers)\n",
    "from mysklearn.myclassifiers import MyKNeighborsClassifier, MySimpleLinearRegressor, MyNaiveBayesClassifier\n",
    "\n",
    "import mysklearn.myevaluation\n",
    "importlib.reload(mysklearn.myevaluation)\n",
    "import mysklearn.myevaluation as myevaluation\n",
    "import os\n",
    "import random\n",
    "\n",
    "\n",
    "auto_file = os.path.join(\"input_data\", \"auto-data-removed-NA.txt\")\n",
    "auto = myutils.load_data(auto_file)\n",
    "auto.remove_rows_with_missing_values()\n",
    "\n",
    "w = myutils.convert_weights(auto.get_column('weight'))\n",
    "c = auto.get_column('cylinders')\n",
    "model_year = auto.get_column('model year')\n",
    "x_train = [[c[i],w[i],model_year[i]] for i in range(len(w))]\n",
    "y_train = myutils.mpg_to_rating(auto.get_column('mpg'))\n",
    "\n",
    "nb = MyNaiveBayesClassifier()\n",
    "nb.fit(x_train, y_train)\n",
    "    \n",
    "rand_rows = myutils.get_rand_rows(auto, 5)\n",
    "x_test = [[row[1],myutils.categorize_weight(row[4]),row[6]] for row in rand_rows]\n",
    "actual = [myutils.rating(row[0]) for row in rand_rows]\n",
    "predicted = nb.predict(x_test)\n",
    "print(\"===========================================\")\n",
    "print(\"STEP 2: Naive Bayes 5 random predictions\")\n",
    "print(\"===========================================\")\n",
    "myutils.print_results(rand_rows,actual,predicted)"
   ]
  },
  {
   "cell_type": "markdown",
   "metadata": {},
   "source": [
    "## Step 3 Train/Test Sets: Random Sub-sampling\n",
    "The error rate for my Naive Bayes is high. Assuming I implemented it correctly, this may be do to the size of the datase (may not have been big enough for accurary)"
   ]
  },
  {
   "cell_type": "code",
   "execution_count": 67,
   "metadata": {},
   "outputs": [
    {
     "name": "stdout",
     "output_type": "stream",
     "text": [
      "===========================================\n",
      "STEP 3: Naive Bayes Predictive Accuracy\n",
      "===========================================\n",
      "Naive Bayes: accuracy = 0.25301204819277107 error rate =  0.7469879518072289\n"
     ]
    }
   ],
   "source": [
    "import os\n",
    "importlib.reload(myutils)\n",
    "auto_file = os.path.join(\"input_data\", \"auto-data-removed-NA.txt\")\n",
    "auto = myutils.load_data(auto_file)\n",
    "auto.remove_rows_with_missing_values()\n",
    "\n",
    "w = myutils.convert_weights(auto.get_column('weight'))\n",
    "c = auto.get_column('cylinders')\n",
    "model_year = auto.get_column('model year')\n",
    "x_train = [[c[i],w[i],model_year[i]] for i in range(len(w))]\n",
    "y_train = myutils.mpg_to_rating(auto.get_column('mpg'))\n",
    "split_xtrain, split_xtest, split_ytrain, split_ytest = myevaluation.train_test_split(x_train, y_train, shuffle=True)\n",
    "nb.fit(split_xtrain,split_ytrain)\n",
    "predicted = nb.predict(split_xtest)\n",
    "accuracy = myutils.get_accuracy(split_ytest, predicted)\n",
    "print(\"===========================================\")\n",
    "print(\"STEP 3: Naive Bayes Predictive Accuracy\")\n",
    "print(\"===========================================\")\n",
    "print('Naive Bayes: accuracy =', accuracy, 'error rate = ', (1-accuracy))"
   ]
  },
  {
   "cell_type": "markdown",
   "metadata": {},
   "source": [
    "## Step 4 Train/Test Sets: Cross Validation"
   ]
  },
  {
   "cell_type": "code",
   "execution_count": 12,
   "metadata": {},
   "outputs": [
    {
     "name": "stdout",
     "output_type": "stream",
     "text": [
      "===========================================\n",
      "STEP 4: Predictive Accuracy\n",
      "===========================================\n",
      "10-Fold Cross Validation\n",
      "Naive Bayes: accuracy = 0.16733067729083664 error rate =  0.8326693227091634\n",
      "Stratified 10-Fold Cross Validation\n",
      "Naive Bayes: accuracy = 0.20717131474103587 error rate =  0.7928286852589641\n"
     ]
    }
   ],
   "source": [
    "import os\n",
    "importlib.reload(myutils)\n",
    "import mysklearn.myevaluation\n",
    "importlib.reload(mysklearn.myevaluation)\n",
    "import mysklearn.myevaluation as myevaluation\n",
    "auto_file = os.path.join(\"input_data\", \"auto-data-removed-NA.txt\")\n",
    "auto = myutils.load_data(auto_file)\n",
    "auto.remove_rows_with_missing_values()\n",
    "\n",
    "w = myutils.convert_weights(auto.get_column('weight'))\n",
    "c = auto.get_column('cylinders')\n",
    "model_year = auto.get_column('model year')\n",
    "x_train = [[c[i],w[i],model_year[i]] for i in range(len(w))]\n",
    "y_train = myutils.mpg_to_rating(auto.get_column('mpg'))\n",
    "\n",
    "train_folds, test_folds = myevaluation.kfold_cross_validation(x_train, 10)\n",
    "x_train, y_train, x_test, y_test = myutils.folds_to_train(x_train, y_train, train_folds, test_folds)\n",
    "\n",
    "nb = MyNaiveBayesClassifier()\n",
    "nb.fit(x_train, y_train)\n",
    "pred = nb.predict(x_test)\n",
    "accuracy = myutils.get_accuracy(y_test, pred)\n",
    "print(\"===========================================\")\n",
    "print(\"STEP 4: Predictive Accuracy\")\n",
    "print(\"===========================================\")\n",
    "print(\"10-Fold Cross Validation\")\n",
    "print('Naive Bayes: accuracy =', accuracy, 'error rate = ', (1-accuracy))\n",
    "print('Stratified 10-Fold Cross Validation')\n",
    "train_folds2, test_folds2 = myevaluation.stratified_kfold_cross_validation(x_train, y_train, 10)\n",
    "x_train2, y_train2, x_test2, y_test2 = myutils.folds_to_train(x_train, y_train, train_folds2, test_folds2)\n",
    "\n",
    "nb.fit(x_train2, y_train2)\n",
    "pred2 = nb.predict(x_test2)\n",
    "accuracy2 = myutils.get_accuracy(y_test2, pred2)\n",
    "print('Naive Bayes: accuracy =', accuracy2, 'error rate = ', (1-accuracy2))"
   ]
  },
  {
   "cell_type": "markdown",
   "metadata": {},
   "source": [
    "## Step 5: Confusion Matrices"
   ]
  },
  {
   "cell_type": "code",
   "execution_count": 6,
   "metadata": {},
   "outputs": [
    {
     "name": "stdout",
     "output_type": "stream",
     "text": [
      "===========================================\n",
      "5: Confusion matrices\n",
      "===========================================\n",
      "=====  ===  ===  ===  ===  ===  ===  ===  ===  ===  ====  =======  =================\n",
      "  MPG    1    2    3    4    5    6    7    8    9    10    Total    Recognition (%)\n",
      "=====  ===  ===  ===  ===  ===  ===  ===  ===  ===  ====  =======  =================\n",
      "    1    0    0    0  225    0    0    0    0    0     0      226               0\n",
      "    2    0    0    0  144    0    0    0    0    0     0      146               0\n",
      "    3    0    0    0  324    0    0    0    0    0     0      327               0\n",
      "    4    0    0    0  468    0    0    0    0    0     0      472              99.15\n",
      "    5    0    0    0  414    0    0    0    0    0     0      419               0\n",
      "    6    0    0    0  270    0    0    0    0    0     0      276               0\n",
      "    7    0    0    0  234    0    0    0    0    0     0      241               0\n",
      "    8    0    0    0  162    0    0    0    0    0     0      170               0\n",
      "    9    0    0    0   18    0    0    0    0    0     0       27               0\n",
      "   10    0    0    0    0    0    0    0    0    0     0       10               0\n",
      "=====  ===  ===  ===  ===  ===  ===  ===  ===  ===  ====  =======  =================\n"
     ]
    }
   ],
   "source": [
    "import importlib\n",
    "import mysklearn.myutils\n",
    "importlib.reload(mysklearn.myutils)\n",
    "import mysklearn.myutils as myutils\n",
    "\n",
    "# uncomment once you paste your mypytable.py into mysklearn package\n",
    "import mysklearn.mypytable\n",
    "importlib.reload(mysklearn.mypytable)\n",
    "from mysklearn.mypytable import MyPyTable \n",
    "\n",
    "import mysklearn.myclassifiers\n",
    "importlib.reload(mysklearn.myclassifiers)\n",
    "from mysklearn.myclassifiers import MyKNeighborsClassifier, MySimpleLinearRegressor, MyNaiveBayesClassifier\n",
    "\n",
    "import mysklearn.myevaluation\n",
    "importlib.reload(mysklearn.myevaluation)\n",
    "import mysklearn.myevaluation as myevaluation\n",
    "import os\n",
    "import random\n",
    "\n",
    "\n",
    "auto_file = os.path.join(\"input_data\", \"auto-data-removed-NA.txt\")\n",
    "auto = myutils.load_data(auto_file)\n",
    "auto.remove_rows_with_missing_values()\n",
    "\n",
    "w = myutils.convert_weights(auto.get_column('weight'))\n",
    "c = auto.get_column('cylinders')\n",
    "model_year = auto.get_column('model year')\n",
    "x_train = [[c[i],w[i],model_year[i]] for i in range(len(w))]\n",
    "y_train = myutils.mpg_to_rating(auto.get_column('mpg'))\n",
    "\n",
    "train_folds, test_folds = myevaluation.kfold_cross_validation(x_train, 10)\n",
    "x_train, y_train, x_test, y_test = myutils.folds_to_train(x_train, y_train, train_folds, test_folds)\n",
    "\n",
    "train_folds2, test_folds2 = myevaluation.stratified_kfold_cross_validation(x_train, y_train, 10)\n",
    "x_train2, y_train2, x_test2, y_test2 = myutils.folds_to_train(x_train, y_train, train_folds2, test_folds2)\n",
    "nb = MyNaiveBayesClassifier()\n",
    "nb.fit(x_train2, y_train2)\n",
    "pred2 = nb.predict(x_test2)\n",
    "\n",
    "print(\"===========================================\")\n",
    "print(\"5: Confusion matrices\")\n",
    "print(\"===========================================\")\n",
    "matrix = myevaluation.confusion_matrix(y_test2, pred2, [0,1,2,3,4,5,6,7,8,9,10])\n",
    "table_header = ['MPG', 1,2, 3 ,4, 5, 6, 7, 8, 9, 10, 'Total', 'Recognition (%)']\n",
    "myutils.add_config_stats(matrix)\n",
    "myutils.print_tabulate(matrix, table_header)"
   ]
  },
  {
   "cell_type": "code",
   "execution_count": null,
   "metadata": {},
   "outputs": [],
   "source": []
  }
 ],
 "metadata": {
  "kernelspec": {
   "display_name": "Python 3",
   "language": "python",
   "name": "python3"
  },
  "language_info": {
   "codemirror_mode": {
    "name": "ipython",
    "version": 3
   },
   "file_extension": ".py",
   "mimetype": "text/x-python",
   "name": "python",
   "nbconvert_exporter": "python",
   "pygments_lexer": "ipython3",
   "version": "3.8.5"
  }
 },
 "nbformat": 4,
 "nbformat_minor": 4
}
